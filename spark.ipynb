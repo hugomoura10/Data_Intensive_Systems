{
 "cells": [
  {
   "cell_type": "code",
   "execution_count": 170,
   "metadata": {},
   "outputs": [],
   "source": [
    "from pyspark.sql import SparkSession\n",
    "\n",
    "spark = SparkSession.builder.appName(\"test\").getOrCreate()"
   ]
  },
  {
   "cell_type": "code",
   "execution_count": 171,
   "metadata": {},
   "outputs": [],
   "source": [
    "#df = spark.read.csv(\"data/SGD_TESTING.csv\").show()\n",
    "et"
   ]
  },
  {
   "cell_type": "code",
   "execution_count": 172,
   "metadata": {},
   "outputs": [],
   "source": [
    "data = spark.read.csv(\"data/SGD_TESTING.csv\", header=True, inferSchema=True)"
   ]
  },
  {
   "cell_type": "code",
   "execution_count": 174,
   "metadata": {},
   "outputs": [
    {
     "name": "stdout",
     "output_type": "stream",
     "text": [
      "+-------+--------------------+------------------+-------+\n",
      "|user_id|            features|from_to_type_index| vector|\n",
      "+-------+--------------------+------------------+-------+\n",
      "|      1|nullS0ReqS0S1ReqS...|              16.0| [16.0]|\n",
      "|      2|nullS0ReqS0S1ReqS...|             189.0|[189.0]|\n",
      "|      3|nullS0ReqS0S1ReqS...|              50.0| [50.0]|\n",
      "|      4|nullS0ReqS0S1ReqS...|             175.0|[175.0]|\n",
      "|      5|nullS0ReqS0S1ReqS...|             141.0|[141.0]|\n",
      "|      6|nullS0ReqS0S1ReqS...|             249.0|[249.0]|\n",
      "|      7|nullS0ReqS0S1ReqS...|              73.0| [73.0]|\n",
      "|      8|nullS0ReqS0S1ReqS...|             306.0|[306.0]|\n",
      "|      9|nullS0ReqS0S1ReqS...|              26.0| [26.0]|\n",
      "|     10|nullS0ReqS0S1ReqS...|              19.0| [19.0]|\n",
      "|     11|nullS0ReqS0S1ReqS...|              28.0| [28.0]|\n",
      "|     12|nullS0ReqS0S1ReqS...|               4.0|  [4.0]|\n",
      "|     13|nullS0ReqS0S1ReqS...|               9.0|  [9.0]|\n",
      "|     14|nullS0ReqS0S1ReqS...|             292.0|[292.0]|\n",
      "|     15|nullS0ReqS0S1ReqS...|             230.0|[230.0]|\n",
      "|     16|nullS0ReqS0S1ReqS...|             152.0|[152.0]|\n",
      "|     17|nullS0ReqS0S1ReqS...|             316.0|[316.0]|\n",
      "|     18|nullS0ReqS0S1ReqS...|             119.0|[119.0]|\n",
      "|     19|nullS0ReqS0S1ReqS...|             121.0|[121.0]|\n",
      "|     20|nullS0ReqS0S1ReqS...|             224.0|[224.0]|\n",
      "+-------+--------------------+------------------+-------+\n",
      "only showing top 20 rows\n",
      "\n"
     ]
    }
   ],
   "source": [
    "from pyspark.ml.feature import MinHashLSH\n",
    "from pyspark.ml.feature import Word2Vec, StringIndexer, VectorAssembler\n",
    "from pyspark.sql.functions import col, array, explode, concat_ws, collect_list, udf\n",
    "import numpy as np \n",
    "from pyspark.sql.types import StringType, ArrayType, BooleanType\n",
    "\n",
    "def is_non_zero_vector(vector):\n",
    "    return vector.numNonzeros() > 0\n",
    "\n",
    "df = data.withColumn(\"arrayColumn\", concat_ws(\"\",\"from\", \"to\", \"type\"))\n",
    "\n",
    "\n",
    "actual_routes_feature = df.groupBy(\"user_id\").agg(\n",
    "    concat_ws(\"\",collect_list(\"arrayColumn\")).alias(\"features\")\n",
    ")\n",
    "\n",
    "\n"
   ]
  },
  {
   "cell_type": "markdown",
   "metadata": {},
   "source": []
  }
 ],
 "metadata": {
  "kernelspec": {
   "display_name": "Python 3",
   "language": "python",
   "name": "python3"
  },
  "language_info": {
   "codemirror_mode": {
    "name": "ipython",
    "version": 3
   },
   "file_extension": ".py",
   "mimetype": "text/x-python",
   "name": "python",
   "nbconvert_exporter": "python",
   "pygments_lexer": "ipython3",
   "version": "3.10.11"
  }
 },
 "nbformat": 4,
 "nbformat_minor": 2
}
