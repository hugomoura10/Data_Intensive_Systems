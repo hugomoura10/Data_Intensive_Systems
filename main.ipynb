{
 "cells": [
  {
   "cell_type": "code",
   "execution_count": 97,
   "metadata": {},
   "outputs": [],
   "source": [
    "from pyspark.sql import SparkSession\n",
    "from pyspark.ml.feature import Word2Vec, StringIndexer, VectorAssembler, DataFrame\n",
    "from pyspark.sql.functions import col, array, explode, concat_ws, collect_list, udf, lit\n",
    "import numpy as np \n",
    "from pyspark.sql.types import StringType, ArrayType, BooleanType\n",
    "from datasketch import MinHash, MinHashLSH\n",
    "from sklearn.cluster import KMeans\n",
    "from numpy import average\n",
    "import shutil\n",
    "import os\n"
   ]
  },
  {
   "cell_type": "markdown",
   "metadata": {},
   "source": [
    "# All functions used"
   ]
  },
  {
   "cell_type": "code",
   "execution_count": null,
   "metadata": {},
   "outputs": [],
   "source": [
    "def shingle(text, k):\n",
    "    shingle_set = []\n",
    "    for i in range(len(text)-k +1):\n",
    "        shingle_set.append(text[i:i+k])\n",
    "    return set(shingle_set)\n",
    "\n",
    "def minhash_lsh(df, k_shingle,threshold):\n",
    "\n",
    "    lsh = MinHashLSH(threshold=threshold, num_perm=128)\n",
    "    minhashes = {}\n",
    "\n",
    "    for features in df.collect():\n",
    "        shingles = shingle(features[\"features\"], k_shingle)\n",
    "        m = MinHash(num_perm=128)\n",
    "        for shingle_item in shingles:\n",
    "            m.update(shingle_item.encode(\"utf8\"))\n",
    "        minhashes[int(features[\"user_id\"])] = m\n",
    "        lsh.insert(int(features[\"user_id\"]), m)\n",
    "\n",
    "    replacement_candidates = {}\n",
    "    for key in lsh.keys: \n",
    "        replacement_candidates[key] = lsh.query(minhashes[key]) \n",
    "\n",
    "    #Key: New representative, value: Similar items\n",
    "    return replacement_candidates\n",
    "\n",
    "#Iteratively bucket unique processes together\n",
    "def bucketing(replacement_candidates):\n",
    "    visited_processes = set()\n",
    "    new_process_dictionary = {}\n",
    "    for key, values in replacement_candidates.items():\n",
    "        new_values = []\n",
    "        for value in values:\n",
    "            if value not in visited_processes:\n",
    "                visited_processes.add(value)\n",
    "                new_values.append(value)\n",
    "        if new_values:  # Only add non-empty lists\n",
    "            new_process_dictionary[key] = sorted(new_values)\n",
    "    return new_process_dictionary\n",
    "\n",
    "\n",
    "def kmeans_clustering(df, n_clusters, max_iter):\n",
    "    minhashes = []\n",
    "    #for jaccard verification\n",
    "    minhash_dict = {}\n",
    "    user_ids = []\n",
    "    final_buckets = {}\n",
    "    for features in df.collect():\n",
    "        shingles = shingle(features[\"features\"], 5)\n",
    "        m = MinHash(num_perm=128)\n",
    "        for shingle_item in shingles:\n",
    "            m.update(shingle_item.encode(\"utf8\"))\n",
    "        minhashes.append(m.hashvalues)\n",
    "        minhash_dict[int(features[\"user_id\"])] = m\n",
    "        user_ids.append(int(features[\"user_id\"]))\n",
    "\n",
    "    kmeans = KMeans(n_clusters=n_clusters, max_iter=max_iter).fit(minhashes)\n",
    "\n",
    "    user_clusters = dict(zip(user_ids, kmeans.labels_))\n",
    "    final_buckets = {}\n",
    "    for key, value in user_clusters.items():\n",
    "        if value in final_buckets:\n",
    "            final_buckets[value].append(key)\n",
    "        else:\n",
    "            final_buckets[value] = [key]\n",
    "\n",
    "    return final_buckets, minhash_dict\n",
    "\n",
    "\n",
    "#Get averege jaccard value per bucket\n",
    "\n",
    "def get_averege_jaccard_sim(final_buckets, minhashes):\n",
    "    sims = {}\n",
    "    for key, value in final_buckets.items():\n",
    "        for user_id_1 in final_buckets[key]:\n",
    "            for user_id_2 in final_buckets[key]:\n",
    "                if user_id_1 != user_id_2:\n",
    "                    sig_1 = minhashes[int(user_id_1)]\n",
    "                    sig_2 = minhashes[int(user_id_2)]\n",
    "                    sim = MinHash.jaccard(sig_1, sig_2)\n",
    "                    if key not in sims:\n",
    "                        sims[key] = [sim]\n",
    "                    else:\n",
    "                        sims[key].append(sim)\n",
    "    total_sum = 0\n",
    "    total_count = 0\n",
    "    sims = dict(sorted(sims.items()))\n",
    "    for key, value in sims.items():\n",
    "        avg_sim = average(value)\n",
    "        print(key, avg_sim)\n",
    "        total_sum += sum(value)\n",
    "        total_count += len(value)\n",
    "    \n",
    "    overall_average = total_sum / total_count if total_count != 0 else 0\n",
    "    print(\"Overall Average Jaccard Similarity:\", overall_average)\n"
   ]
  },
  {
   "cell_type": "markdown",
   "metadata": {},
   "source": [
    "# Experiments"
   ]
  },
  {
   "cell_type": "code",
   "execution_count": 142,
   "metadata": {},
   "outputs": [],
   "source": [
    "spark = SparkSession.builder.appName(\"spark_session_1\").getOrCreate()\n",
    "data = spark.read.csv(\"data/SDG_dataset2.csv\", header=True, inferSchema=True)\n",
    "\n",
    "\n",
    "df = data.withColumn(\"arrayColumn\", concat_ws(\"\",\"to\")).withColumn(\"Minhash\", lit(\"\"))\n",
    "df_filtered_m = df.filter(df.type.isin(['Req']))\n",
    "df_grouped = df_filtered_m.groupBy(\"user_id\").agg(\n",
    "    concat_ws(\"\",collect_list(\"arrayColumn\")).alias(\"features\")\n",
    ")\n"
   ]
  },
  {
   "cell_type": "code",
   "execution_count": 143,
   "metadata": {},
   "outputs": [
    {
     "name": "stdout",
     "output_type": "stream",
     "text": [
      "+-------+--------------------+\n",
      "|user_id|            features|\n",
      "+-------+--------------------+\n",
      "|     12|S0S6S7S5S5_1S5_1_...|\n",
      "|     22|S0S5S5_1S5_1_1S6S...|\n",
      "|     26|S0S2S2_4S5S5_1S5_1_1|\n",
      "|     27|S0S2S2_3S2_1S2_4S...|\n",
      "|     28|S0S7S3S3_1S3_2S3_...|\n",
      "|     31|S0S3S3_1S3_2S3_3S...|\n",
      "|     34|S0S6S7S1S1_3S3S3_...|\n",
      "|     44|          S0S7S1S1_1|\n",
      "|     47|S0S4S4_1S7S5S5_2S...|\n",
      "|     53|S0S1S1_3S3S3_1S3_...|\n",
      "|     65|S0S5S5_1S5_1_1S4S...|\n",
      "|     76|S0S3S3_1S3_2S3_3S...|\n",
      "|     78|S0S5S5_2S5_2_1S3S...|\n",
      "|     81|S0S2S2_2S4S4_2S7S...|\n",
      "|     85|S0S3S3_1S3_2S3_3S...|\n",
      "|     91|S0S2S2_2S2_4S2_1S...|\n",
      "|     93|S0S4S4_3S3S3_1S3_...|\n",
      "|    101|S0S3S3_1S3_2S3_3S...|\n",
      "|    103|S0S1S1_3S2S2_4S2_...|\n",
      "|    108|S0S3S3_1S3_2S3_3S...|\n",
      "+-------+--------------------+\n",
      "only showing top 20 rows\n",
      "\n"
     ]
    },
    {
     "name": "stderr",
     "output_type": "stream",
     "text": [
      "                                                                                \r"
     ]
    }
   ],
   "source": [
    "df_grouped.show()"
   ]
  },
  {
   "cell_type": "code",
   "execution_count": 139,
   "metadata": {},
   "outputs": [
    {
     "name": "stdout",
     "output_type": "stream",
     "text": [
      "+----+------+--------------------+----+-------+\n",
      "|from|    to|           timestamp|type|user_id|\n",
      "+----+------+--------------------+----+-------+\n",
      "|null|    S0| 2024-06-03 09:50:18| Req|      1|\n",
      "|  S0|    S3| 2024-06-03 09:50:18| Req|      1|\n",
      "|  S3|  S3_1| 2024-06-03 09:50:18| Req|      1|\n",
      "|  S3|  S3_2|2024-06-03 09:50:...| Req|      1|\n",
      "|  S3|  S3_3|2024-06-03 09:50:...| Req|      1|\n",
      "|  S0|    S4|2024-06-03 09:50:...| Req|      1|\n",
      "|  S4|  S4_3|2024-06-03 09:50:...| Req|      1|\n",
      "|  S0|    S5|2024-06-03 09:50:...| Req|      1|\n",
      "|  S5|  S5_1|2024-06-03 09:50:...| Req|      1|\n",
      "|S5_1|S5_1_3|2024-06-03 09:50:...| Req|      1|\n",
      "|  S0|    S1| 2024-06-03 09:50:36| Req|      1|\n",
      "|  S1|  S1_1| 2024-06-03 09:50:36| Req|      1|\n",
      "|null|    S0| 2024-06-03 09:48:27| Req|      2|\n",
      "|  S0|    S7| 2024-06-03 09:48:27| Req|      2|\n",
      "|  S0|    S4| 2024-06-03 09:48:27| Req|      2|\n",
      "|  S4|  S4_3| 2024-06-03 09:48:27| Req|      2|\n",
      "|  S0|    S2|2024-06-03 09:48:...| Req|      2|\n",
      "|  S2|  S2_3|2024-06-03 09:48:...| Req|      2|\n",
      "|  S2|  S2_1|2024-06-03 09:48:...| Req|      2|\n",
      "|  S2|  S2_2|2024-06-03 09:48:...| Req|      2|\n",
      "+----+------+--------------------+----+-------+\n",
      "only showing top 20 rows\n",
      "\n"
     ]
    }
   ],
   "source": [
    "df_filtered_m.show()"
   ]
  },
  {
   "cell_type": "code",
   "execution_count": 134,
   "metadata": {},
   "outputs": [
    {
     "name": "stdout",
     "output_type": "stream",
     "text": [
      "+------+------+--------------------+----+-------+-----------+-------+\n",
      "|  from|    to|           timestamp|type|user_id|arrayColumn|Minhash|\n",
      "+------+------+--------------------+----+-------+-----------+-------+\n",
      "|  null|    S0| 2024-06-03 09:50:18| Req|      1|     nullS0|       |\n",
      "|    S0|    S3| 2024-06-03 09:50:18| Req|      1|       S0S3|       |\n",
      "|    S3|  S3_1| 2024-06-03 09:50:18| Req|      1|     S3S3_1|       |\n",
      "|  S3_1|    S3|2024-06-03 09:50:...| Res|      1|     S3_1S3|       |\n",
      "|    S3|  S3_2|2024-06-03 09:50:...| Req|      1|     S3S3_2|       |\n",
      "|  S3_2|    S3|2024-06-03 09:50:...| Res|      1|     S3_2S3|       |\n",
      "|    S3|  S3_3|2024-06-03 09:50:...| Req|      1|     S3S3_3|       |\n",
      "|  S3_3|    S3|2024-06-03 09:50:...| Res|      1|     S3_3S3|       |\n",
      "|    S3|    S0|2024-06-03 09:50:...| Res|      1|       S3S0|       |\n",
      "|    S0|    S4|2024-06-03 09:50:...| Req|      1|       S0S4|       |\n",
      "|    S4|  S4_3|2024-06-03 09:50:...| Req|      1|     S4S4_3|       |\n",
      "|  S4_3|    S4|2024-06-03 09:50:...| Res|      1|     S4_3S4|       |\n",
      "|    S4|    S0|2024-06-03 09:50:...| Res|      1|       S4S0|       |\n",
      "|    S0|    S5|2024-06-03 09:50:...| Req|      1|       S0S5|       |\n",
      "|    S5|  S5_1|2024-06-03 09:50:...| Req|      1|     S5S5_1|       |\n",
      "|  S5_1|S5_1_3|2024-06-03 09:50:...| Req|      1| S5_1S5_1_3|       |\n",
      "|S5_1_3|  S5_1| 2024-06-03 09:50:36| Res|      1| S5_1_3S5_1|       |\n",
      "|  S5_1|    S5| 2024-06-03 09:50:36| Res|      1|     S5_1S5|       |\n",
      "|    S5|    S0| 2024-06-03 09:50:36| Res|      1|       S5S0|       |\n",
      "|    S0|    S1| 2024-06-03 09:50:36| Req|      1|       S0S1|       |\n",
      "+------+------+--------------------+----+-------+-----------+-------+\n",
      "only showing top 20 rows\n",
      "\n"
     ]
    }
   ],
   "source": [
    "df.show()"
   ]
  },
  {
   "cell_type": "code",
   "execution_count": 136,
   "metadata": {},
   "outputs": [
    {
     "name": "stderr",
     "output_type": "stream",
     "text": [
      "[Stage 155:=====>                                                 (1 + 10) / 11]\r"
     ]
    },
    {
     "name": "stdout",
     "output_type": "stream",
     "text": [
      "+-------+--------------------+\n",
      "|user_id|            features|\n",
      "+-------+--------------------+\n",
      "|     12|S0S6S0S7S0S5S5_1S...|\n",
      "|     26|S0S2S2_4S0S5S5_1S...|\n",
      "|     27|S0S2S2_3S2_1S2_4S...|\n",
      "|     28|S0S7S0S3S3_1S3S3_...|\n",
      "|     31|S0S3S3_1S3S3_2S3S...|\n",
      "|     34|S0S6S0S7S0S1S1_3S...|\n",
      "|     44|S0S7S0S1S1_1S1S0null|\n",
      "|     53|S0S1S1_3S1S0S3S3_...|\n",
      "|     65|S0S5S5_1S5_1_1S5_...|\n",
      "|     76|S0S3S3_1S3S3_2S3S...|\n",
      "|     78|S0S5S5_2S5_2_1S5_...|\n",
      "|     81|S0S2S2_2S0S4S4_2S...|\n",
      "|     85|S0S3S3_1S3S3_2S3S...|\n",
      "|     91|S0S2S2_2S2_4S2_1S...|\n",
      "|    101|S0S3S3_1S3S3_2S3S...|\n",
      "|    103|S0S1S1_3S1S0S2S2_...|\n",
      "|    108|S0S3S3_1S3S3_2S3S...|\n",
      "|    115|S0S2S2_2S0S5S5_1S...|\n",
      "|    126|S0S3S3_1S3S3_2S3S...|\n",
      "|    133|S0S2S2_5S2_3S0S7S...|\n",
      "+-------+--------------------+\n",
      "only showing top 20 rows\n",
      "\n"
     ]
    },
    {
     "name": "stderr",
     "output_type": "stream",
     "text": [
      "                                                                                \r"
     ]
    }
   ],
   "source": [
    "df_grouped.show()"
   ]
  },
  {
   "cell_type": "markdown",
   "metadata": {},
   "source": [
    "## Parameter-tuning for k-shingles"
   ]
  },
  {
   "cell_type": "code",
   "execution_count": 111,
   "metadata": {},
   "outputs": [
    {
     "name": "stdout",
     "output_type": "stream",
     "text": [
      "Initial processes: 45579\n",
      "After merging processes: 8244\n",
      "Initial processes: 45579\n",
      "After merging processes: 12410\n",
      "Initial processes: 45579\n",
      "After merging processes: 33562\n"
     ]
    }
   ],
   "source": [
    "replacement_candidates3 = minhash_lsh(df_grouped,3,0.95)\n",
    "new_process_dictionary3 = bucketing(replacement_candidates3)\n",
    "print(f\"Initial processes: {len(replacement_candidates3)}\")\n",
    "print(f\"After merging processes: {len(new_process_dictionary3)}\")\n",
    "\n",
    "replacement_candidates5 = minhash_lsh(df_grouped,5,0.95)\n",
    "new_process_dictionary5 = bucketing(replacement_candidates5)\n",
    "print(f\"Initial processes: {len(replacement_candidates5)}\")\n",
    "print(f\"After merging processes: {len(new_process_dictionary5)}\")\n",
    "\n",
    "replacement_candidates7 = minhash_lsh(df_grouped,7,0.99)\n",
    "new_process_dictionary7 = bucketing(replacement_candidates7)\n",
    "print(f\"Initial processes: {len(replacement_candidates7)}\")\n",
    "print(f\"After merging processes: {len(new_process_dictionary7)}\")"
   ]
  },
  {
   "cell_type": "code",
   "execution_count": 144,
   "metadata": {},
   "outputs": [
    {
     "name": "stderr",
     "output_type": "stream",
     "text": [
      "                                                                                \r"
     ]
    },
    {
     "name": "stdout",
     "output_type": "stream",
     "text": [
      "Initial processes: 45525\n",
      "After merging processes: 35443\n"
     ]
    }
   ],
   "source": [
    "replacement_candidates7 = minhash_lsh(df_grouped,5,0.98)\n",
    "new_process_dictionary7 = bucketing(replacement_candidates7)\n",
    "print(f\"Initial processes: {len(replacement_candidates7)}\")\n",
    "print(f\"After merging processes: {len(new_process_dictionary7)}\")"
   ]
  },
  {
   "cell_type": "code",
   "execution_count": 146,
   "metadata": {},
   "outputs": [
    {
     "data": {
      "text/plain": [
       "[26, 30205, 32948, 44407]"
      ]
     },
     "execution_count": 146,
     "metadata": {},
     "output_type": "execute_result"
    }
   ],
   "source": [
    "new_process_dictionary7[26]\n",
    "# = data.filter(df.user_id.isin(user_ids))"
   ]
  },
  {
   "cell_type": "code",
   "execution_count": 151,
   "metadata": {},
   "outputs": [
    {
     "name": "stdout",
     "output_type": "stream",
     "text": [
      "+------+------+-------------------+----+-------+\n",
      "|  from|    to|          timestamp|type|user_id|\n",
      "+------+------+-------------------+----+-------+\n",
      "|  null|    S0|2024-06-03 10:44:00| Req|     26|\n",
      "|    S0|    S2|2024-06-03 10:44:00| Req|     26|\n",
      "|    S2|  S2_4|2024-06-03 10:44:00| Req|     26|\n",
      "|    S2|    S0|2024-06-03 10:44:01| Res|     26|\n",
      "|    S0|    S5|2024-06-03 10:44:01| Req|     26|\n",
      "|    S5|  S5_1|2024-06-03 10:44:01| Req|     26|\n",
      "|  S5_1|S5_1_1|2024-06-03 10:44:01| Req|     26|\n",
      "|S5_1_1|  S5_1|2024-06-03 10:44:08| Res|     26|\n",
      "|  S5_1|    S5|2024-06-03 10:44:08| Res|     26|\n",
      "|    S5|    S0|2024-06-03 10:44:08| Res|     26|\n",
      "|    S0|  null|2024-06-03 10:44:08| Res|     26|\n",
      "+------+------+-------------------+----+-------+\n",
      "\n"
     ]
    }
   ],
   "source": [
    "data1 = data.filter(df.user_id.isin([30205]))\n",
    "data2 = data.filter(df.user_id.isin([32948]))\n",
    "data3 = data.filter(df.user_id.isin([26]))\n",
    "data3.show()\n"
   ]
  },
  {
   "cell_type": "code",
   "execution_count": 150,
   "metadata": {},
   "outputs": [
    {
     "name": "stdout",
     "output_type": "stream",
     "text": [
      "+------+------+--------------------+----+-------+\n",
      "|  from|    to|           timestamp|type|user_id|\n",
      "+------+------+--------------------+----+-------+\n",
      "|  null|    S0| 2024-06-03 09:16:09| Req|  32948|\n",
      "|    S0|    S2| 2024-06-03 09:16:09| Req|  32948|\n",
      "|    S2|  S2_4| 2024-06-03 09:16:09| Req|  32948|\n",
      "|    S2|    S0|2024-06-03 09:16:...| Res|  32948|\n",
      "|    S0|    S5|2024-06-03 09:16:...| Req|  32948|\n",
      "|    S5|  S5_1|2024-06-03 09:16:...| Req|  32948|\n",
      "|  S5_1|S5_1_1|2024-06-03 09:16:...| Req|  32948|\n",
      "|S5_1_1|  S5_1|2024-06-03 09:16:...| Res|  32948|\n",
      "|  S5_1|    S5|2024-06-03 09:16:...| Res|  32948|\n",
      "|    S5|    S0|2024-06-03 09:16:...| Res|  32948|\n",
      "|    S0|  null|2024-06-03 09:16:...| Res|  32948|\n",
      "+------+------+--------------------+----+-------+\n",
      "\n"
     ]
    }
   ],
   "source": [
    "data2.show()"
   ]
  },
  {
   "cell_type": "code",
   "execution_count": 148,
   "metadata": {},
   "outputs": [],
   "source": [
    "import numpy as np\n",
    "desired_column_list1 = data1.select(\"to\").rdd.flatMap(lambda x: x).collect()\n",
    "#desired_column_list1\n",
    "desired_column_list2 = data2.select(\"to\").rdd.flatMap(lambda x: x).collect()\n",
    "#desired_column_list2\n",
    "common_elements = np.intersect1d(desired_column_list1, desired_column_list2)\n",
    "union_elements = np.union1d(desired_column_list1, desired_column_list2)\n",
    "#print(common_elements,union_elements)\n"
   ]
  },
  {
   "cell_type": "code",
   "execution_count": 149,
   "metadata": {},
   "outputs": [
    {
     "name": "stdout",
     "output_type": "stream",
     "text": [
      "1.0\n"
     ]
    }
   ],
   "source": [
    "print(len(common_elements)/len(union_elements))"
   ]
  },
  {
   "cell_type": "code",
   "execution_count": 127,
   "metadata": {},
   "outputs": [
    {
     "data": {
      "text/plain": [
       "['S0',\n",
       " 'S4',\n",
       " 'S4_4',\n",
       " 'S4',\n",
       " 'S0',\n",
       " 'S5',\n",
       " 'S5_2',\n",
       " 'S5_2_2',\n",
       " 'S5_2',\n",
       " 'S5',\n",
       " 'S0',\n",
       " 'S7',\n",
       " 'S0',\n",
       " 'S6',\n",
       " 'S0',\n",
       " 'S2',\n",
       " 'S2_1',\n",
       " 'S2_4',\n",
       " 'S2_2',\n",
       " 'S2_5',\n",
       " 'S0',\n",
       " 'S3',\n",
       " 'S3_1',\n",
       " 'S3',\n",
       " 'S3_2',\n",
       " 'S3',\n",
       " 'S3_3',\n",
       " 'S3',\n",
       " 'S0',\n",
       " 'S1',\n",
       " 'S1_1',\n",
       " 'S1',\n",
       " 'S0',\n",
       " 'null']"
      ]
     },
     "execution_count": 127,
     "metadata": {},
     "output_type": "execute_result"
    }
   ],
   "source": []
  },
  {
   "cell_type": "code",
   "execution_count": 110,
   "metadata": {},
   "outputs": [
    {
     "name": "stderr",
     "output_type": "stream",
     "text": [
      "                                                                                \r"
     ]
    }
   ],
   "source": [
    "import shutil\n",
    "import os\n",
    "\n",
    "def write_df(df,file_name):\n",
    "    os.makedirs('Output', exist_ok=True)\n",
    "    #temporary folder to save all the temporaty files created by write.csv\n",
    "    os.makedirs('temp', exist_ok=True)\n",
    "    df.write.csv('temp/temp_outoput', header=True, mode=\"overwrite\")\n",
    "    part_file = [f for f in os.listdir('temp/temp_outoput') if f.startswith(\"part-\")][0]\n",
    "\n",
    "    shutil.move(os.path.join('temp/temp_outoput', part_file), file_name)\n",
    "    shutil.rmtree('temp/temp_outoput')\n",
    "    shutil.rmtree('temp')\n",
    "\n",
    "def output_part1(dataset,k,threshold):\n",
    "    data = spark.read.csv(dataset, header=True, inferSchema=True)\n",
    "    df = data.withColumn(\"arrayColumn\", concat_ws(\"\",\"from\", \"to\")).withColumn(\"Minhash\", lit(\"\"))\n",
    "    df_grouped = df.groupBy(\"user_id\").agg(\n",
    "                                            concat_ws(\"\",collect_list(\"arrayColumn\")).alias(\"features\"))\n",
    "    \n",
    "    replacement_candidates = minhash_lsh(df_grouped,k,threshold)\n",
    "    new_process_dictionary = bucketing(replacement_candidates)    \n",
    "\n",
    "    user_ids = list(new_process_dictionary.keys())\n",
    "    output_df = data.filter(df.user_id.isin(user_ids))\n",
    "    final_df = output_df.coalesce(1)\n",
    "    return write_df(final_df,'Output/part1Output.csv')\n",
    "\n",
    "# output_part1(\"data/SDG_dataset2.csv\",3,0.95)\n",
    "# output_part1(\"data/SDG_dataset2.csv\",5,0.95)\n",
    "output_part1(\"data/SDG_dataset2.csv\",7,0.95)\n"
   ]
  },
  {
   "cell_type": "markdown",
   "metadata": {},
   "source": [
    "## Parameter tuning for Kmeans"
   ]
  },
  {
   "cell_type": "code",
   "execution_count": null,
   "metadata": {},
   "outputs": [],
   "source": [
    "from sklearn.model_selection import train_test_split, GridSearchCV\n",
    "\n",
    "minhashes = []\n",
    "user_ids = []\n",
    "final_buckets = {}\n",
    "for features in df_grouped.collect():\n",
    "    shingles = shingle(features[\"features\"], 5)\n",
    "    m = MinHash(num_perm=128)\n",
    "    for shingle_item in shingles:\n",
    "        m.update(shingle_item.encode(\"utf8\"))\n",
    "    minhashes.append(m.hashvalues)\n",
    "    user_ids.append(int(features[\"user_id\"]))\n",
    "\n",
    "param_grid = {\n",
    "    'n_clusters': [100, 250, 500],\n",
    "    'max_iter': [100, 500, 1000],\n",
    "}\n",
    "\n",
    "kmeans = KMeans()\n",
    "\n",
    "grid_search = GridSearchCV(kmeans, param_grid, cv=5)\n",
    "\n",
    "grid_search.fit(minhashes)\n",
    "\n",
    "best_param = grid_search.best_params_\n",
    "best_model = grid_search.best_estimator_\n",
    "\n",
    "print(\"The best parameters are: \" , best_param )\n",
    "print(\"The best model is: \", best_model)"
   ]
  },
  {
   "cell_type": "markdown",
   "metadata": {},
   "source": [
    "## STEP 1: Find and merge"
   ]
  },
  {
   "cell_type": "code",
   "execution_count": null,
   "metadata": {},
   "outputs": [],
   "source": [
    "replacement_candidates = minhash_lsh(df_grouped,7)\n",
    "new_process_dictionary = bucketing(replacement_candidates)\n",
    "print(len(replacement_candidates))\n",
    "print(len(new_process_dictionary))"
   ]
  },
  {
   "cell_type": "markdown",
   "metadata": {},
   "source": [
    "## STEP 2: Find/cluster similar items"
   ]
  },
  {
   "cell_type": "code",
   "execution_count": null,
   "metadata": {},
   "outputs": [],
   "source": [
    "from sklearn.model_selection import train_test_split, GridSearchCV\n",
    "\n",
    "users = []\n",
    "for key in new_process_dictionary:\n",
    "    users.append(key)\n",
    "\n",
    "filtered_df = df_grouped[df_grouped['user_id'].isin(users)]\n",
    "\n",
    "final_buckets, minhashes = kmeans_clustering(filtered_df,500,100)"
   ]
  },
  {
   "cell_type": "markdown",
   "metadata": {},
   "source": [
    "## Verification"
   ]
  },
  {
   "cell_type": "code",
   "execution_count": null,
   "metadata": {},
   "outputs": [],
   "source": [
    "get_averege_jaccard_sim(final_buckets, minhashes)"
   ]
  },
  {
   "cell_type": "code",
   "execution_count": null,
   "metadata": {},
   "outputs": [],
   "source": [
    "# indexer = StringIndexer(inputCol=\"features\", outputCol=\"from_to_type_index\")\n",
    "# indexed_data = indexer.fit(actual_routes_feature).transform(actual_routes_feature)\n",
    "# assembler = VectorAssembler(inputCols=[\"from_to_type_index\"], outputCol=\"vector\")\n",
    "# actual_feature_data = assembler.transform(indexed_data)\n",
    "\n",
    "# actual_feature_data.show()\n",
    "# # def is_non_zero_vector(vector):\n",
    "# #     return vector.numNonzeros() > 0\n",
    "\n",
    "# # is_non_zero_vector_udf = udf(is_non_zero_vector, BooleanType())\n",
    "\n",
    "# # filtered_data = actual_feature_data.filter(is_non_zero_vector_udf(col(\"vector\")))\n",
    "\n",
    "\n",
    "# mh = MinHashLSH(inputCol=\"vector\", outputCol=\"hashes\", numHashTables=5, seed=1003)\n",
    "# model = mh.fit(actual_feature_data)\n",
    "\n",
    "# #transformed_filtered_data = model.transform(actual_feature_data).head()\n",
    "# test = model.approxNearestNeighbors()\n",
    "\n",
    "# # transformed_filtered_data.show(truncate=False, n=50)\n",
    "\n",
    "\n",
    "# #similar_items.show(truncate=False)\n",
    "\n",
    "# def is_non_zero_vector(vector):\n",
    "#     return vector.numNonzeros() > 0\n",
    "\n",
    "# from collections import defaultdict\n",
    "\n",
    "# representative_mapping = {}\n",
    "\n",
    "# group_mapping = defaultdict(list)\n",
    "\n",
    "# # Iterate over the user neighbors dictionary\n",
    "# for user, neighbors in new_process_dictionary.items():\n",
    "#     neighbors_sorted = tuple(sorted(neighbors))\n",
    "#     if neighbors_sorted in representative_mapping:\n",
    "#         representative = representative_mapping[neighbors_sorted]\n",
    "#     else:\n",
    "#         representative = neighbors_sorted[0]\n",
    "#         for neighbor in neighbors_sorted:\n",
    "#             representative_mapping[neighbor] = representative\n",
    "    \n",
    "#     representative_mapping[user] = representative\n",
    "#     group_mapping[representative].append(user)\n",
    "\n",
    "# new_user_neighbors = {}\n",
    "# for representative, users in group_mapping.items():\n",
    "#     new_user_neighbors[representative] = users\n",
    "\n",
    "# #print(new_user_neighbors)\n",
    "# new_users = []\n",
    "# for key, value in new_user_neighbors.items():\n",
    "#     new_users.append(key)\n",
    "\n",
    "# print(len(new_users))\n",
    "# filtered_df = df_grouped[df_grouped['user_id'].isin(new_users)]\n",
    "# print(f\"Amount of processes: {filtered_df.count()}\")\n",
    "#     shingles = shingle(features[\"features\"], 5)\n",
    "#     m = MinHash(num_perm=128)\n",
    "#     for shingle_item in shingles:\n",
    "#         m.update(shingle_item.encode(\"utf8\"))\n",
    "#     minhashes[int(features[\"user_id\"])] = m\n",
    "#     lsh.insert(int(features[\"user_id\"]), m)\n",
    "#     neigbours = lsh.query(m)\n",
    "#     print(features[\"user_id\"], neigbours)\n",
    "#     final_buckets[features[\"user_id\"]] = neigbours\n",
    "\n",
    "# print(final_buckets)"
   ]
  },
  {
   "cell_type": "markdown",
   "metadata": {},
   "source": []
  }
 ],
 "metadata": {
  "kernelspec": {
   "display_name": "Python 3",
   "language": "python",
   "name": "python3"
  },
  "language_info": {
   "codemirror_mode": {
    "name": "ipython",
    "version": 3
   },
   "file_extension": ".py",
   "mimetype": "text/x-python",
   "name": "python",
   "nbconvert_exporter": "python",
   "pygments_lexer": "ipython3",
   "version": "3.8.8"
  }
 },
 "nbformat": 4,
 "nbformat_minor": 2
}
