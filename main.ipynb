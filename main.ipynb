{
 "cells": [
  {
   "cell_type": "code",
   "execution_count": 1,
   "metadata": {},
   "outputs": [],
   "source": [
    "from pyspark.sql import SparkSession\n",
    "from pyspark.ml.feature import Word2Vec, StringIndexer, VectorAssembler, DataFrame\n",
    "from pyspark.sql.functions import col, array, explode, concat_ws, collect_list, udf, lit\n",
    "import numpy as np \n",
    "from pyspark.sql.types import StringType, ArrayType, BooleanType\n",
    "from datasketch import MinHash, MinHashLSH\n",
    "from sklearn.cluster import KMeans\n",
    "from numpy import average\n"
   ]
  },
  {
   "cell_type": "markdown",
   "metadata": {},
   "source": [
    "# All functions used"
   ]
  },
  {
   "cell_type": "code",
   "execution_count": 36,
   "metadata": {},
   "outputs": [],
   "source": [
    "def shingle(text, k):\n",
    "    shingle_set = []\n",
    "    for i in range(len(text)-k +1):\n",
    "        shingle_set.append(text[i:i+k])\n",
    "    return set(shingle_set)\n",
    "\n",
    "def minhash_lsh(df, k_shingle,threshold):\n",
    "\n",
    "    lsh = MinHashLSH(threshold=threshold, num_perm=128)\n",
    "    minhashes = {}\n",
    "\n",
    "    for features in df.collect():\n",
    "        shingles = shingle(features[\"features\"], k_shingle)\n",
    "        m = MinHash(num_perm=128)\n",
    "        for shingle_item in shingles:\n",
    "            m.update(shingle_item.encode(\"utf8\"))\n",
    "        minhashes[int(features[\"user_id\"])] = m\n",
    "        lsh.insert(int(features[\"user_id\"]), m)\n",
    "\n",
    "    replacement_candidates = {}\n",
    "    for key in lsh.keys: \n",
    "        replacement_candidates[key] = lsh.query(minhashes[key]) \n",
    "\n",
    "    #Key: New representative, value: Similar items\n",
    "    return replacement_candidates\n",
    "\n",
    "#Iteratively bucket unique processes together\n",
    "def bucketing(replacement_candidates):\n",
    "    visited_processes = set()\n",
    "    new_process_dictionary = {}\n",
    "    for key, values in replacement_candidates.items():\n",
    "        new_values = []\n",
    "        for value in values:\n",
    "            if value not in visited_processes:\n",
    "                visited_processes.add(value)\n",
    "                new_values.append(value)\n",
    "        if new_values:  # Only add non-empty lists\n",
    "            new_process_dictionary[key] = sorted(new_values)\n",
    "    return new_process_dictionary\n",
    "\n",
    "\n",
    "def kmeans_clustering(df, n_clusters, max_iter):\n",
    "    minhashes = []\n",
    "    #for jaccard verification\n",
    "    minhash_dict = {}\n",
    "    user_ids = []\n",
    "    final_buckets = {}\n",
    "    for features in df.collect():\n",
    "        shingles = shingle(features[\"features\"], 5)\n",
    "        m = MinHash(num_perm=128)\n",
    "        for shingle_item in shingles:\n",
    "            m.update(shingle_item.encode(\"utf8\"))\n",
    "        minhashes.append(m.hashvalues)\n",
    "        minhash_dict[int(features[\"user_id\"])] = m\n",
    "        user_ids.append(int(features[\"user_id\"]))\n",
    "\n",
    "    kmeans = KMeans(n_clusters=n_clusters, max_iter=max_iter).fit(minhashes)\n",
    "\n",
    "    user_clusters = dict(zip(user_ids, kmeans.labels_))\n",
    "    final_buckets = {}\n",
    "    for key, value in user_clusters.items():\n",
    "        if value in final_buckets:\n",
    "            final_buckets[value].append(key)\n",
    "        else:\n",
    "            final_buckets[value] = [key]\n",
    "\n",
    "    return final_buckets, minhash_dict\n",
    "\n",
    "\n",
    "#Get averege jaccard value per bucket\n",
    "\n",
    "def get_averege_jaccard_sim(final_buckets, minhashes):\n",
    "    sims = {}\n",
    "    for key, value in final_buckets.items():\n",
    "        for user_id_1 in final_buckets[key]:\n",
    "            for user_id_2 in final_buckets[key]:\n",
    "                if user_id_1 != user_id_2:\n",
    "                    sig_1 = minhashes[int(user_id_1)]\n",
    "                    sig_2 = minhashes[int(user_id_2)]\n",
    "                    sim = MinHash.jaccard(sig_1, sig_2)\n",
    "                    if key not in sims:\n",
    "                        sims[key] = [sim]\n",
    "                    else:\n",
    "                        sims[key].append(sim)\n",
    "    total_sum = 0\n",
    "    total_count = 0\n",
    "    sims = dict(sorted(sims.items()))\n",
    "    for key, value in sims.items():\n",
    "        avg_sim = average(value)\n",
    "        print(key, avg_sim)\n",
    "        total_sum += sum(value)\n",
    "        total_count += len(value)\n",
    "    \n",
    "    overall_average = total_sum / total_count if total_count != 0 else 0\n",
    "    print(\"Overall Average Jaccard Similarity:\", overall_average)\n"
   ]
  },
  {
   "cell_type": "code",
   "execution_count": 3,
   "metadata": {},
   "outputs": [],
   "source": [
    "spark = SparkSession.builder.appName(\"spark_session_1\").getOrCreate()\n",
    "data = spark.read.csv(\"data/SDG_dataset2.csv\", header=True, inferSchema=True)\n",
    "\n",
    "df = data.withColumn(\"arrayColumn\", concat_ws(\"\",\"from\", \"to\")).withColumn(\"Minhash\", lit(\"\"))\n",
    "df_grouped = df.groupBy(\"user_id\").agg(\n",
    "    concat_ws(\"\",collect_list(\"arrayColumn\")).alias(\"features\")\n",
    ")"
   ]
  },
  {
   "cell_type": "markdown",
   "metadata": {},
   "source": [
    "## Parameter-tuning for k-shingles"
   ]
  },
  {
   "cell_type": "code",
   "execution_count": 27,
   "metadata": {},
   "outputs": [
    {
     "name": "stdout",
     "output_type": "stream",
     "text": [
      "Initial processes: 45641\n",
      "After merging processes: 8295\n",
      "Initial processes: 45641\n",
      "After merging processes: 12488\n",
      "Initial processes: 45641\n",
      "After merging processes: 33645\n"
     ]
    }
   ],
   "source": [
    "replacement_candidates = minhash_lsh(df_grouped,3,0.95)\n",
    "new_process_dictionary = bucketing(replacement_candidates)\n",
    "print(f\"Initial processes: {len(replacement_candidates)}\")\n",
    "print(f\"After merging processes: {len(new_process_dictionary)}\")\n",
    "\n",
    "replacement_candidates = minhash_lsh(df_grouped,5,0.95)\n",
    "new_process_dictionary = bucketing(replacement_candidates)\n",
    "print(f\"Initial processes: {len(replacement_candidates)}\")\n",
    "print(f\"After merging processes: {len(new_process_dictionary)}\")\n",
    "\n",
    "replacement_candidates = minhash_lsh(df_grouped,7,0.95)\n",
    "new_process_dictionary = bucketing(replacement_candidates)\n",
    "print(f\"Initial processes: {len(replacement_candidates)}\")\n",
    "print(f\"After merging processes: {len(new_process_dictionary)}\")"
   ]
  },
  {
   "cell_type": "markdown",
   "metadata": {},
   "source": [
    "## Parameter tuning for Kmeans"
   ]
  },
  {
   "cell_type": "code",
   "execution_count": 34,
   "metadata": {},
   "outputs": [
    {
     "name": "stdout",
     "output_type": "stream",
     "text": [
      "The best parameters are:  {'max_iter': 100, 'n_clusters': 500}\n",
      "The best model is:  KMeans(max_iter=100, n_clusters=500)\n"
     ]
    }
   ],
   "source": [
    "from sklearn.model_selection import train_test_split, GridSearchCV\n",
    "\n",
    "minhashes = []\n",
    "user_ids = []\n",
    "final_buckets = {}\n",
    "for features in df_grouped.collect():\n",
    "    shingles = shingle(features[\"features\"], 5)\n",
    "    m = MinHash(num_perm=128)\n",
    "    for shingle_item in shingles:\n",
    "        m.update(shingle_item.encode(\"utf8\"))\n",
    "    minhashes.append(m.hashvalues)\n",
    "    user_ids.append(int(features[\"user_id\"]))\n",
    "\n",
    "param_grid = {\n",
    "    'n_clusters': [100, 250, 500],\n",
    "    'max_iter': [100, 500, 1000],\n",
    "}\n",
    "\n",
    "kmeans = KMeans()\n",
    "\n",
    "grid_search = GridSearchCV(kmeans, param_grid, cv=5)\n",
    "\n",
    "grid_search.fit(minhashes)\n",
    "\n",
    "best_param = grid_search.best_params_\n",
    "best_model = grid_search.best_estimator_\n",
    "\n",
    "print(\"The best parameters are: \" , best_param )\n",
    "print(\"The best model is: \", best_model)"
   ]
  },
  {
   "cell_type": "markdown",
   "metadata": {},
   "source": [
    "## STEP 1: Find and merge"
   ]
  },
  {
   "cell_type": "code",
   "execution_count": 29,
   "metadata": {},
   "outputs": [
    {
     "name": "stdout",
     "output_type": "stream",
     "text": [
      "45641\n",
      "33645\n"
     ]
    }
   ],
   "source": [
    "replacement_candidates = minhash_lsh(df_grouped,7)\n",
    "new_process_dictionary = bucketing(replacement_candidates)\n",
    "print(len(replacement_candidates))\n",
    "print(len(new_process_dictionary))"
   ]
  },
  {
   "cell_type": "markdown",
   "metadata": {},
   "source": [
    "## STEP 2: Find/cluster similar items"
   ]
  },
  {
   "cell_type": "code",
   "execution_count": 37,
   "metadata": {},
   "outputs": [],
   "source": [
    "from sklearn.model_selection import train_test_split, GridSearchCV\n",
    "\n",
    "users = []\n",
    "for key in new_process_dictionary:\n",
    "    users.append(key)\n",
    "\n",
    "filtered_df = df_grouped[df_grouped['user_id'].isin(users)]\n",
    "\n",
    "final_buckets, minhashes = kmeans_clustering(filtered_df,500,100)"
   ]
  },
  {
   "cell_type": "markdown",
   "metadata": {},
   "source": [
    "## Verification"
   ]
  },
  {
   "cell_type": "code",
   "execution_count": null,
   "metadata": {},
   "outputs": [
    {
     "name": "stdout",
     "output_type": "stream",
     "text": [
      "0 0.7235331191575753\n",
      "1 0.5981104901414798\n",
      "2 0.7548786739576213\n",
      "3 0.7246049693108066\n",
      "4 0.7294465674961934\n",
      "5 0.7292580984124694\n",
      "6 0.6601232361373985\n",
      "7 0.7413893690403425\n",
      "8 0.6009684486474105\n",
      "9 0.5508145432431127\n",
      "10 0.6191211480472604\n",
      "11 0.6517663376386993\n",
      "12 0.594710652390844\n",
      "13 0.6576437698058015\n",
      "14 0.6360313057382109\n",
      "15 0.7691318243960862\n",
      "16 0.704930922798007\n",
      "17 0.6235601973968693\n",
      "18 0.4993495086644125\n",
      "19 0.5382667078706089\n",
      "20 0.6943297092105382\n",
      "21 0.6285030323178594\n",
      "22 0.627957513568521\n",
      "23 0.6701023343105899\n",
      "24 0.5346086817110371\n",
      "25 0.7443837905760302\n",
      "26 0.6901287429757439\n",
      "27 0.6261217212300355\n",
      "28 0.567689932155658\n",
      "29 0.6138171124019282\n",
      "Overall Average Jaccard Similarity: 0.7063980691195367\n"
     ]
    }
   ],
   "source": [
    "get_averege_jaccard_sim(final_buckets, minhashes)"
   ]
  },
  {
   "cell_type": "code",
   "execution_count": 50,
   "metadata": {},
   "outputs": [],
   "source": [
    "# indexer = StringIndexer(inputCol=\"features\", outputCol=\"from_to_type_index\")\n",
    "# indexed_data = indexer.fit(actual_routes_feature).transform(actual_routes_feature)\n",
    "# assembler = VectorAssembler(inputCols=[\"from_to_type_index\"], outputCol=\"vector\")\n",
    "# actual_feature_data = assembler.transform(indexed_data)\n",
    "\n",
    "# actual_feature_data.show()\n",
    "# # def is_non_zero_vector(vector):\n",
    "# #     return vector.numNonzeros() > 0\n",
    "\n",
    "# # is_non_zero_vector_udf = udf(is_non_zero_vector, BooleanType())\n",
    "\n",
    "# # filtered_data = actual_feature_data.filter(is_non_zero_vector_udf(col(\"vector\")))\n",
    "\n",
    "\n",
    "# mh = MinHashLSH(inputCol=\"vector\", outputCol=\"hashes\", numHashTables=5, seed=1003)\n",
    "# model = mh.fit(actual_feature_data)\n",
    "\n",
    "# #transformed_filtered_data = model.transform(actual_feature_data).head()\n",
    "# test = model.approxNearestNeighbors()\n",
    "\n",
    "# # transformed_filtered_data.show(truncate=False, n=50)\n",
    "\n",
    "\n",
    "# #similar_items.show(truncate=False)\n",
    "\n",
    "# def is_non_zero_vector(vector):\n",
    "#     return vector.numNonzeros() > 0\n",
    "\n",
    "# from collections import defaultdict\n",
    "\n",
    "# representative_mapping = {}\n",
    "\n",
    "# group_mapping = defaultdict(list)\n",
    "\n",
    "# # Iterate over the user neighbors dictionary\n",
    "# for user, neighbors in new_process_dictionary.items():\n",
    "#     neighbors_sorted = tuple(sorted(neighbors))\n",
    "#     if neighbors_sorted in representative_mapping:\n",
    "#         representative = representative_mapping[neighbors_sorted]\n",
    "#     else:\n",
    "#         representative = neighbors_sorted[0]\n",
    "#         for neighbor in neighbors_sorted:\n",
    "#             representative_mapping[neighbor] = representative\n",
    "    \n",
    "#     representative_mapping[user] = representative\n",
    "#     group_mapping[representative].append(user)\n",
    "\n",
    "# new_user_neighbors = {}\n",
    "# for representative, users in group_mapping.items():\n",
    "#     new_user_neighbors[representative] = users\n",
    "\n",
    "# #print(new_user_neighbors)\n",
    "# new_users = []\n",
    "# for key, value in new_user_neighbors.items():\n",
    "#     new_users.append(key)\n",
    "\n",
    "# print(len(new_users))\n",
    "# filtered_df = df_grouped[df_grouped['user_id'].isin(new_users)]\n",
    "# print(f\"Amount of processes: {filtered_df.count()}\")\n",
    "#     shingles = shingle(features[\"features\"], 5)\n",
    "#     m = MinHash(num_perm=128)\n",
    "#     for shingle_item in shingles:\n",
    "#         m.update(shingle_item.encode(\"utf8\"))\n",
    "#     minhashes[int(features[\"user_id\"])] = m\n",
    "#     lsh.insert(int(features[\"user_id\"]), m)\n",
    "#     neigbours = lsh.query(m)\n",
    "#     print(features[\"user_id\"], neigbours)\n",
    "#     final_buckets[features[\"user_id\"]] = neigbours\n",
    "\n",
    "# print(final_buckets)"
   ]
  },
  {
   "cell_type": "markdown",
   "metadata": {},
   "source": []
  }
 ],
 "metadata": {
  "kernelspec": {
   "display_name": "Python 3",
   "language": "python",
   "name": "python3"
  },
  "language_info": {
   "codemirror_mode": {
    "name": "ipython",
    "version": 3
   },
   "file_extension": ".py",
   "mimetype": "text/x-python",
   "name": "python",
   "nbconvert_exporter": "python",
   "pygments_lexer": "ipython3",
   "version": "3.8.8"
  }
 },
 "nbformat": 4,
 "nbformat_minor": 2
}
