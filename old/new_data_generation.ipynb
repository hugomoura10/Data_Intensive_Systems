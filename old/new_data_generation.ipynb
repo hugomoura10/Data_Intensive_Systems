{
 "cells": [
  {
   "cell_type": "code",
   "execution_count": 1,
   "metadata": {},
   "outputs": [],
   "source": [
    "import random\n",
    "import pandas as pd\n",
    "from datetime import datetime, timedelta"
   ]
  },
  {
   "cell_type": "code",
   "execution_count": 5,
   "metadata": {},
   "outputs": [
    {
     "name": "stdout",
     "output_type": "stream",
     "text": [
      "smth wrong\n"
     ]
    },
    {
     "data": {
      "text/plain": [
       "[['null', 'S0', datetime.datetime(2024, 6, 3, 9, 0), 'Req', '01'],\n",
       " ['S0', 'S4', datetime.datetime(2024, 6, 3, 9, 0), 'Req', '01'],\n",
       " ['S4', 'S4_5', datetime.datetime(2024, 6, 3, 9, 0), 'Req', '01'],\n",
       " ['S4_5', 'S4', datetime.datetime(2024, 6, 3, 9, 0, 4, 700000), 'Res', '01'],\n",
       " ['S4', 'S0', datetime.datetime(2024, 6, 3, 9, 0, 4, 700000), 'Res', '01'],\n",
       " ['S0', 'S7', datetime.datetime(2024, 6, 3, 9, 0, 4, 700000), 'Req', '01'],\n",
       " ['S7', 'S0', datetime.datetime(2024, 6, 3, 9, 0, 4, 700000), 'Res', '01'],\n",
       " ['S0', 'null', datetime.datetime(2024, 6, 3, 9, 0, 4, 700000), 'Res', '01']]"
      ]
     },
     "execution_count": 5,
     "metadata": {},
     "output_type": "execute_result"
    }
   ],
   "source": [
    "def generate_case(tasks, case_id, start_time,min_datapoints):\n",
    "    '''\n",
    "    '''\n",
    "    case = []\n",
    "    time = start_time\n",
    "    case_id=str(case_id).zfill(len(str(min_datapoints)))\n",
    "    case.append(['null','S0',time,'Req',case_id]) #request between the user and the first server\n",
    "    \n",
    "    #random_indexes = sorted(random.sample(list(range(len(tasks.keys()))),random.randint(2, len(tasks.keys()))))\n",
    "    #list_new_tasks = [list(tasks.keys())[i] for i in sorted(random.sample(list(range(len(tasks.keys()))),random.randint(2, len(tasks.keys()))))]\n",
    "\n",
    "    new_tasks = {task:tasks[task] for task in [list(tasks.keys())[i] for i in sorted(random.sample(list(range(len(tasks.keys()))),random.randint(2, len(tasks.keys()))))]}\n",
    "    \n",
    "    for task,subtasks in new_tasks.items():\n",
    "        server = f\"S{list(tasks.keys()).index(task)+1}\" #SX\n",
    "        case.append(['S0',server,time,'Req',case_id])#request between the first server and the specific server\n",
    "        if subtasks[0]=='one':\n",
    "            service_task = random.choice(subtasks[1])\n",
    "            new_server = f\"{server}_{subtasks[1].index(service_task)+1}\"\n",
    "            #Request\n",
    "            case.append([server, new_server,time,'Req',case_id])\n",
    "            #Response\n",
    "            time += timedelta(microseconds=random.randint(subtasks[-1][0], subtasks[-1][1])*100000)\n",
    "            case.append([new_server,server,time,'Res',case_id]) #1 milisecond= 1000 microseconds\n",
    "            \n",
    "            \n",
    "        elif subtasks[0] == 'rand':\n",
    "            rand_tasks = random.sample(subtasks[1], random.randint(1, len(subtasks[1])))\n",
    "            for new_task in rand_tasks:\n",
    "                new_server = f\"{server}_{subtasks[1].index(new_task)+1}\"\n",
    "                #Request\n",
    "                case.append([server, new_server,time,'Req',case_id])\n",
    "                #Response\n",
    "                time += timedelta(microseconds=random.randint(subtasks[-1][0], subtasks[-1][1])*100000)\n",
    "\n",
    "\n",
    "        elif subtasks[0] == 'all':\n",
    "            for new_task in subtasks[1]:\n",
    "                new_server = f\"{server}_{subtasks[1].index(new_task)+1}\"\n",
    "                case.append([server, new_server,time,'Req',case_id])\n",
    "                time += timedelta(microseconds=random.randint(subtasks[-1][0], subtasks[-1][1])*100000)\n",
    "                case.append([new_server,server,time,'Res',case_id]) \n",
    "        elif subtasks[0] == 'con':\n",
    "            service_task = random.choice(subtasks[1])\n",
    "            new_server = f\"{server}_{subtasks[1].index(service_task)+1}\"\n",
    "            #Req\n",
    "            case.append([server, new_server,time,'Req',case_id])\n",
    "\n",
    "            #Opt\n",
    "            #Req\n",
    "            sub_service_task =random.choice(tasks[service_task][1])\n",
    "            sub_server = f\"{new_server}_{list(tasks[service_task][1]).index(sub_service_task)+1}\"\n",
    "            case.append([new_server,sub_server,time,'Req',case_id])\n",
    "            #Res\n",
    "            time += timedelta(microseconds=random.randint(tasks[service_task][-1][0], tasks[service_task][-1][1])*100000)\n",
    "            case.append([sub_server,new_server,time,'Res',case_id])\n",
    "            #Opt end\n",
    "\n",
    "            #Res\n",
    "            case.append([new_server,server,time,'Res',case_id])\n",
    "\n",
    "        else:\n",
    "            print('smth wrong')#need to change this to make sure it raises an error or smth like that\n",
    "        \n",
    "        case.append([server,'S0',time,'Res',case_id])#response between the specific server and the first server \n",
    "    case.append(['S0','null',time,'Res',case_id])#response between and the first server the user\n",
    "    return case\n",
    "\n",
    "tasks = {'log_in': ['one',['credentials check','sing up','recover pw and log in'],(0,10)],\n",
    "            'search_book': ['rand',['history','fantasy','crime','poetry','biography'],(5,15)],\n",
    "            'shipment' : ['all',['adress','door number','zip code'],(15,50)],\n",
    "            'payment' : ['one',['visa','master card','revolut','paypal','apple pay'],(10,100)],\n",
    "            'new_site' : ['con',['site1','site2'],(10,100)],\n",
    "            'site1' : ['opt',['site1_1','site1_2','site1_3'],(10,100)],\n",
    "            'site2' : ['opt',['site2_1','site2_2'],(10,100)]\n",
    "} \n",
    "start_time = datetime(2024, 6, 3, 9, 0, 0)  #begining of the course April 27, 2024, 08:00:00\n",
    "end_time = datetime(2024, 6, 3, 10, 45, 0) #day of the exam\n",
    "generate_case(tasks,1,start_time,40)"
   ]
  },
  {
   "cell_type": "code",
   "execution_count": 3,
   "metadata": {},
   "outputs": [],
   "source": [
    "#Random times\n",
    "def random_time(start_time,end_time):\n",
    "    delta = end_time - start_time\n",
    "    return start_time + timedelta(seconds=random.randint(0, int(delta.total_seconds())))"
   ]
  },
  {
   "cell_type": "code",
   "execution_count": 11,
   "metadata": {},
   "outputs": [
    {
     "ename": "SyntaxError",
     "evalue": "invalid syntax. Perhaps you forgot a comma? (2083784320.py, line 28)",
     "output_type": "error",
     "traceback": [
      "\u001b[1;36m  Cell \u001b[1;32mIn[11], line 28\u001b[1;36m\u001b[0m\n\u001b[1;33m    generate_dataset(tasks, 1 000 000,start_time,end_time)\u001b[0m\n\u001b[1;37m                            ^\u001b[0m\n\u001b[1;31mSyntaxError\u001b[0m\u001b[1;31m:\u001b[0m invalid syntax. Perhaps you forgot a comma?\n"
     ]
    }
   ],
   "source": [
    "def generate_dataset(tasks, min_datapoints,start_time,end_time):\n",
    "    datapoints = 0\n",
    "    dataset = []\n",
    "    user_id = 1\n",
    "    while datapoints <= min_datapoints:\n",
    "        time = random_time(start_time,end_time)\n",
    "        case = generate_case(tasks, user_id, time,min_datapoints)\n",
    "        dataset.extend(case)\n",
    "        datapoints+= len(case)\n",
    "        user_id+=1\n",
    "    \n",
    "    df = pd.DataFrame(dataset, columns=['from', 'to', 'timestamp', 'type', 'user_id'])\n",
    "\n",
    "    # Save to Excel (XLSX)\n",
    "    df.to_csv('./SGD_file.csv', index=False)  # Save to XLSX instead of CSV\n",
    "\n",
    "    # Display sample of the dataset\n",
    "    print(df.head())\n",
    "\n",
    "tasks = {'log_in': ['one',['credentials check','sing up','recover pw and log in'],(0,10)],\n",
    "            'search_book': ['rand',['history','fantasy','crime','poetry','biography'],(5,15)],\n",
    "            'shipment' : ['all',['adress','door number','zip code'],(15,50)],\n",
    "            'payment' : ['one',['visa','master card','revolut','paypal','apple pay'],(10,100)]\n",
    "}  \n",
    "start_time = datetime(2024, 6, 3, 9, 0, 0)  #begining of the course April 27, 2024, 08:00:00\n",
    "end_time = datetime(2024, 6, 3, 10, 45, 0) #day of the exam\n",
    "generate_case(tasks,1,start_time,40)\n",
    "generate_dataset(tasks, 1000000,start_time,end_time)  "
   ]
  }
 ],
 "metadata": {
  "kernelspec": {
   "display_name": "base",
   "language": "python",
   "name": "python3"
  },
  "language_info": {
   "codemirror_mode": {
    "name": "ipython",
    "version": 3
   },
   "file_extension": ".py",
   "mimetype": "text/x-python",
   "name": "python",
   "nbconvert_exporter": "python",
   "pygments_lexer": "ipython3",
   "version": "3.10.11"
  }
 },
 "nbformat": 4,
 "nbformat_minor": 2
}
