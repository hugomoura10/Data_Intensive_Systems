{
 "cells": [
  {
   "cell_type": "code",
   "execution_count": null,
   "metadata": {},
   "outputs": [],
   "source": []
  },
  {
   "cell_type": "code",
   "execution_count": 73,
   "metadata": {},
   "outputs": [],
   "source": [
    "import hashlib\n",
    "import numpy as np\n",
    "\n",
    "def hash_function(seed):\n",
    "    return lambda x: int(hashlib.md5((str(seed) + x).encode('utf8')).hexdigest(), 16)\n",
    "\n",
    "def minhash(signature_size, num_hashes):\n",
    "    def compute_minhash(chars):\n",
    "        min_hashes = [float('inf')] * num_hashes\n",
    "        for char in chars:\n",
    "            for i in range(num_hashes):\n",
    "                hash_value = hash_function(i)(char)\n",
    "                if hash_value < min_hashes[i]:\n",
    "                    min_hashes[i] = hash_value\n",
    "        return min_hashes\n",
    "    return compute_minhash"
   ]
  },
  {
   "cell_type": "code",
   "execution_count": 89,
   "metadata": {},
   "outputs": [],
   "source": [
    "import pandas as pd\n",
    "import numpy as np\n",
    "\n",
    "def jaccard_similarity(set1, set2):\n",
    "    # intersection of two sets\n",
    "    intersection = len(np.intersect1d(set1, set2))\n",
    "    # Unions of two sets\n",
    "    union = len(np.union1d(set1, set2))\n",
    "     \n",
    "    return intersection / union\n",
    "\n",
    "\n",
    "\n",
    "\n",
    "df = pd.read_csv('SGD.csv')\n",
    "dic = {}\n",
    "\n",
    "for fr, to, time, type, user_id in zip(df[\"from\"], df[\"to\"], df[\"timestamp\"], df[\"type\"], df[\"user_id\"]):\n",
    "    if user_id in dic:\n",
    "        dic[user_id].append([fr, to, type])\n",
    "    else:\n",
    "        dic[user_id] = [[fr, to, type]]\n",
    "\n",
    "signature_size = 100\n",
    "num_hashes = 1\n",
    "compute_minhash = minhash(signature_size, num_hashes)\n",
    "\n",
    "hashes = []\n",
    "for x in range(1,len(dic)):\n",
    "    dic[x] = compute_minhash(np.array(dic[x]).flatten())\n",
    "    hashes.append(dic[x])\n",
    "\n",
    "df = pd.DataFrame(np.array(hashes).flatten(), columns=['hash'])\n",
    "\n",
    "# Save to Excel (XLSX)\n",
    "df.to_csv('./SGD_hash.csv', index=False)  # Save to XLSX instead of CSV\n",
    "\n",
    "# print(compute_minhash(arr1))\n",
    "# print(compute_minhash(arr2))\n",
    "# jaccard_similarity(arr1, arr2)\n",
    "##ANY value over 0.5 - get placed in same bucket?\n",
    "\n",
    "# for i in range(1,len(dic)):\n",
    "#     if jaccard_similarity(dic[i], dic[i+1]) > 0.95:\n",
    "#         print(i,i+1)\n"
   ]
  },
  {
   "cell_type": "code",
   "execution_count": 1,
   "metadata": {},
   "outputs": [
    {
     "name": "stdout",
     "output_type": "stream",
     "text": [
      "Estimated Jaccard Similarity: 0.43\n"
     ]
    }
   ],
   "source": [
    "\n",
    "#Convert to k-shingles\n",
    "\n",
    "import hashlib\n",
    "import numpy as np\n",
    "\n",
    "\n",
    "def hash_function(seed):\n",
    "    return lambda x: int(hashlib.md5((str(seed) + x).encode('utf8')).hexdigest(), 16)\n",
    "\n",
    "def minhash(shingles, num_hashes=100):\n",
    "    min_hashes = [float('inf')] * num_hashes\n",
    "    \n",
    "    for shingle in shingles:\n",
    "        for i in range(num_hashes):\n",
    "            hash_value = hash_function(i)(shingle)\n",
    "            if hash_value < min_hashes[i]:\n",
    "                min_hashes[i] = hash_value\n",
    "                \n",
    "    return min_hashes\n",
    "\n",
    "# Example usage:\n",
    "document1 = {\"shingle1\", \"shingle2\", \"shingle3\"}\n",
    "document2 = {\"shingle2\", \"shingle3\", \"shingle4\"}\n",
    "\n",
    "signature1 = minhash(document1, num_hashes=100)\n",
    "signature2 = minhash(document2, num_hashes=100)\n",
    "\n",
    "# Calculate Jaccard similarity between the two Minhash signatures\n",
    "def jaccard_similarity(sig1, sig2):\n",
    "    return sum(1 for i in range(len(sig1)) if sig1[i] == sig2[i]) / len(sig1)\n",
    "\n",
    "similarity = jaccard_similarity(signature1, signature2)\n",
    "print(f\"Estimated Jaccard Similarity: {similarity}\")\n",
    "\n"
   ]
  }
 ],
 "metadata": {
  "kernelspec": {
   "display_name": "Python 3",
   "language": "python",
   "name": "python3"
  },
  "language_info": {
   "codemirror_mode": {
    "name": "ipython",
    "version": 3
   },
   "file_extension": ".py",
   "mimetype": "text/x-python",
   "name": "python",
   "nbconvert_exporter": "python",
   "pygments_lexer": "ipython3",
   "version": "3.10.11"
  }
 },
 "nbformat": 4,
 "nbformat_minor": 2
}
