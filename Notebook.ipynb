{
 "cells": [
  {
   "cell_type": "code",
   "execution_count": null,
   "metadata": {},
   "outputs": [],
   "source": [
    "\n",
    "tasks = {\n",
    "    \"log_in\" : [\"one\", [\"credentials_check\", \"sign_up\", \"recover_password\"]],\n",
    "    \"purchase_item\" : [\"all\", [\"reserve item\", \"initiate_payment_methods\"]],\n",
    "    \"payment_method\" : [\"one\", [\"Visa\", \"Mastercard\", \"Revolut\", \"PayPal\"]],\n",
    "    \"verify_payment_method\" : [\"one\", [\"2FactorAuthentication\"]],\n",
    "    \"complete_purchase\": [\"all\", [\"initiate_transfer\", \"confirm_transfer\"]]\n",
    "}\n",
    "\n",
    "\n",
    "tasks = {\n",
    "    \"log_in\": [\"one\", [\"credentials_check\", \"sign_up\", \"recover_password\"]],\n",
    "    \"purchase_item\": [\"all\", [\"reserve_item\", \"initiate_payment_methods\"]],\n",
    "    \"reserve_item\": [\"all\", [\"check_availability\", \"lock_inventory\"]],\n",
    "    \"initiate_payment_methods\": [\"one\", [\"credit_card_check\", \"paypal_check\", \"bank_transfer_check\"]],\n",
    "    \"credit_card_check\": [\"all\", [\"validate_card\", \"check_funds\"]],\n",
    "    \"paypal_check\": [\"all\", [\"validate_account\", \"check_funds\"]],\n",
    "    \"bank_transfer_check\": [\"all\", [\"validate_account\", \"check_funds\"]] \n",
    "}\n",
    "\n",
    "tasks = {\n",
    "    \"log_in\": [\"one\", [\"credentials_check\", \"sign_up\", \"recover_password\"]],\n",
    "    \"purchase_item\": [\"all\", [\"add_to_cart\", \"initiate_payment\"]],\n",
    "    \"initiate_payment\": [\"one\", [\"credit_card_payment\", \"paypal_payment\", \"bank_transfer_payment\"]],\n",
    "    \"credit_card_payment\": [\"all\", [\"enter_card_details\", \"validate_card\", \"check_funds\"]],\n",
    "    \"paypal_payment\": [\"all\", [\"log_in_to_paypal\", \"validate_account\", \"check_funds\"]],\n",
    "    \"bank_transfer_payment\": [\"all\", [\"enter_bank_details\", \"validate_account\", \"check_funds\"]] }\n",
    "\n",
    "\n",
    "#subtasks = {\n",
    "#    'log_in': ['one', ['credentials_check', 'sign_up', 'recover_password_ad_log_in']],\n",
    "#    'initiate_transfer': ['all', ['enter_account_details', 'enter_amount', 'enter_recipient_details']],\n",
    "#    'verify_transfer': ['rand', ['sms_verification', 'email_verification', \"2Fauthenticator_verification\"]],\n",
    "#    \"complete_transfer\": ['one', [\"Visa\", \"Master_card\", \"Revolut\", \"Paypal\"]]\n",
    "#}\n"
   ]
  },
  {
   "cell_type": "code",
   "execution_count": 63,
   "metadata": {},
   "outputs": [
    {
     "data": {
      "text/plain": [
       "0.35135135135135137"
      ]
     },
     "execution_count": 63,
     "metadata": {},
     "output_type": "execute_result"
    }
   ],
   "source": [
    "import pandas as pd\n",
    "import numpy as np\n",
    "\n",
    "def jaccard_similarity(set1, set2):\n",
    "    # intersection of two sets\n",
    "    intersection = len(np.intersect1d(set1, set2))\n",
    "    # Unions of two sets\n",
    "    union = len(np.union1d(set1, set2))\n",
    "     \n",
    "    return intersection / union\n",
    "\n",
    "\n",
    "df = pd.read_csv('SGD.csv')\n",
    "dic = {}\n",
    "\n",
    "for fr, to, time, type, user_id in zip(df[\"from\"], df[\"to\"], df[\"timestamp\"], df[\"type\"], df[\"user_id\"]):\n",
    "    if user_id in dic:\n",
    "        dic[user_id].append([fr, to, time, type])\n",
    "    else:\n",
    "        dic[user_id] = [[fr, to, time, type]]\n",
    "\n",
    "for x in range(1,len(dic)):\n",
    "    dic[x] = np.array(dic[x]).flatten()\n",
    "\n",
    "arr1 = dic[1]\n",
    "arr2 = dic[2]\n",
    "\n",
    "jaccard_similarity(arr1, arr2)\n"
   ]
  },
  {
   "cell_type": "code",
   "execution_count": 1,
   "metadata": {},
   "outputs": [
    {
     "name": "stdout",
     "output_type": "stream",
     "text": [
      "Estimated Jaccard Similarity: 0.43\n"
     ]
    }
   ],
   "source": [
    "\n",
    "#Convert to k-shingles\n",
    "\n",
    "import hashlib\n",
    "import numpy as np\n",
    "\n",
    "\n",
    "def hash_function(seed):\n",
    "    return lambda x: int(hashlib.md5((str(seed) + x).encode('utf8')).hexdigest(), 16)\n",
    "\n",
    "def minhash(shingles, num_hashes=100):\n",
    "    min_hashes = [float('inf')] * num_hashes\n",
    "    \n",
    "    for shingle in shingles:\n",
    "        for i in range(num_hashes):\n",
    "            hash_value = hash_function(i)(shingle)\n",
    "            if hash_value < min_hashes[i]:\n",
    "                min_hashes[i] = hash_value\n",
    "                \n",
    "    return min_hashes\n",
    "\n",
    "# Example usage:\n",
    "document1 = {\"shingle1\", \"shingle2\", \"shingle3\"}\n",
    "document2 = {\"shingle2\", \"shingle3\", \"shingle4\"}\n",
    "\n",
    "signature1 = minhash(document1, num_hashes=100)\n",
    "signature2 = minhash(document2, num_hashes=100)\n",
    "\n",
    "# Calculate Jaccard similarity between the two Minhash signatures\n",
    "def jaccard_similarity(sig1, sig2):\n",
    "    return sum(1 for i in range(len(sig1)) if sig1[i] == sig2[i]) / len(sig1)\n",
    "\n",
    "similarity = jaccard_similarity(signature1, signature2)\n",
    "print(f\"Estimated Jaccard Similarity: {similarity}\")\n",
    "\n"
   ]
  }
 ],
 "metadata": {
  "kernelspec": {
   "display_name": "Python 3",
   "language": "python",
   "name": "python3"
  },
  "language_info": {
   "codemirror_mode": {
    "name": "ipython",
    "version": 3
   },
   "file_extension": ".py",
   "mimetype": "text/x-python",
   "name": "python",
   "nbconvert_exporter": "python",
   "pygments_lexer": "ipython3",
   "version": "3.10.11"
  }
 },
 "nbformat": 4,
 "nbformat_minor": 2
}
