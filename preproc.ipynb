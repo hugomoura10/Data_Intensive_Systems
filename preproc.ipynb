{
 "cells": [
  {
   "cell_type": "code",
   "execution_count": 1,
   "metadata": {},
   "outputs": [
    {
     "name": "stdout",
     "output_type": "stream",
     "text": [
      "        from    to                timestamp type  user_id\n",
      "0        NaN    S0  2024-05-26 14:07:50.000  Req        1\n",
      "1         S0    S1  2024-05-26 14:07:50.000  Req        1\n",
      "2         S1  S1_2  2024-05-26 14:07:50.000  Req        1\n",
      "3       S1_2    S1  2024-05-26 14:07:50.003  Res        1\n",
      "4         S1    S0  2024-05-26 14:07:50.003  Res        1\n",
      "...      ...   ...                      ...  ...      ...\n",
      "206799    S0    S4  2024-06-05 23:15:31.024  Req     7940\n",
      "206800    S4  S4_5  2024-06-05 23:15:31.024  Req     7940\n",
      "206801  S4_5    S4  2024-06-05 23:15:31.034  Res     7940\n",
      "206802    S4    S0  2024-06-05 23:15:31.034  Res     7940\n",
      "206803    S0   NaN  2024-06-05 23:15:31.034  Res     7940\n",
      "\n",
      "[206804 rows x 5 columns]\n",
      "[[nan, 'S0', 'Req'], ['S0', 'S1', 'Req'], ['S1', 'S1_2', 'Req'], ['S1_2', 'S1', 'Res'], ['S1', 'S0', 'Res'], ['S0', 'S2', 'Req'], ['S2', 'S2_3', 'Req'], ['S2_3', 'S2', 'Res'], ['S2', 'S0', 'Res'], ['S0', 'S3', 'Req'], ['S3', 'S3_1', 'Req'], ['S3_1', 'S3', 'Res'], ['S3', 'S3_2', 'Req'], ['S3_2', 'S3', 'Res'], ['S3', 'S3_3', 'Req'], ['S3_3', 'S3', 'Res'], ['S3', 'S0', 'Res'], ['S0', 'S4', 'Req'], ['S4', 'S4_2', 'Req'], ['S4_2', 'S4', 'Res'], ['S4', 'S0', 'Res'], ['S0', nan, 'Res']]\n",
      "7940\n"
     ]
    }
   ],
   "source": [
    "import pandas as pd\n",
    "import numpy as np\n",
    "\n",
    "df = pd.read_csv('SGD_TESTING.csv')\n",
    "print(df)\n",
    "dic = {}\n",
    "\n",
    "for fr, to, time, type, user_id in zip(df[\"from\"], df[\"to\"], df[\"timestamp\"], df[\"type\"], df[\"user_id\"]):\n",
    "    if user_id in dic:\n",
    "        dic[user_id].append([fr, to, type])\n",
    "    else:\n",
    "        dic[user_id] = [[fr, to, type]]\n",
    "\n",
    "\n",
    "hashes = []\n",
    "for x in range(1,len(dic)):\n",
    "    dic[x] = np.array(dic[x]).flatten()\n",
    "    hashes.append(dic[x])\n",
    "\n",
    "\n",
    "print(len(dic))\n",
    "\n",
    "\n"
   ]
  },
  {
   "cell_type": "code",
   "execution_count": 14,
   "metadata": {},
   "outputs": [
    {
     "name": "stdout",
     "output_type": "stream",
     "text": [
      "{'4S', 'S0', '1S', 'nS', '_1', '_2', '3R', 'S2', '0R', '1_', 'S4', '0n', 'qS', '3S', '_3', '2R', '0S', 'an', '4_', '2_', 'sS', '4R', 'eq', 'nR', 'S3', 'na', '2S', '1R', 'es', '3_', 'S1', 'Re'}\n",
      "{'4S', 'S0', '1S', 'nS', '_1', '_2', '_5', '3R', 'S2', '0R', '1_', 'S4', '0n', 'qS', '3S', '_3', '2R', '0S', '5R', 'an', '4_', '5S', '2_', 'sS', '4R', 'eq', '_4', 'nR', 'S3', 'na', '2S', '1R', 'es', '3_', 'S1', 'Re'}\n",
      "['Req' 'Res' 'S0' 'S1' 'S1_2' 'S2' 'S2_1' 'S2_2' 'S2_3' 'S2_4' 'S2_5' 'S3'\n",
      " 'S3_1' 'S3_2' 'S3_3' 'S4' 'S4_2' 'S4_5' 'nan']\n",
      "[0, 1, 0, 0, 0, 0, 0, 1, 0, 0, 1, 0, 0, 0, 0, 0, 0, 0, 0, 0, 0, 0, 0, 0, 1, 0, 0, 0, 0, 0, 1, 0] [0, 1, 0, 0, 0, 0, 0, 0, 1, 0, 0, 1, 0, 0, 0, 0, 0, 0, 0, 0, 0, 0, 0, 0, 0, 0, 0, 0, 1, 0, 0, 0, 0, 0, 1, 0]\n"
     ]
    }
   ],
   "source": [
    "from random import shuffle\n",
    "\n",
    "def jaccard_similarity(set1, set2):\n",
    "    # intersection of two sets\n",
    "    intersection = len(np.intersect1d(set1, set2))\n",
    "    # Unions of two sets\n",
    "    union = len(np.union1d(set1, set2))\n",
    "     \n",
    "    return intersection / union\n",
    "\n",
    "def create_hash_func(size: int):\n",
    "    # function for creating the hash vector/function\n",
    "    hash_ex = list(range(1, len(vocab)+1))\n",
    "    shuffle(hash_ex)\n",
    "    return hash_ex\n",
    "\n",
    "def build_minhash_func(vocab_size: int, nbits: int):\n",
    "    # function for building multiple minhash vectors\n",
    "    hashes = []\n",
    "    for _ in range(nbits):\n",
    "        hashes.append(create_hash_func(vocab_size))\n",
    "    return hashes\n",
    "\n",
    "def create_hash(vector: list):\n",
    "    # use this function for creating our signatures (eg the matching)\n",
    "    signature = []\n",
    "    for func in minhash_func:\n",
    "        for i in range(1, len(vocab)+1):\n",
    "            idx = func.index(i)\n",
    "            signature_val = vector[idx]\n",
    "            if signature_val == 1:\n",
    "                signature.append(idx)\n",
    "                break\n",
    "    return signature\n",
    "\n",
    "def shingle(text, k):\n",
    "    shingle_set = []\n",
    "    for i in range(len(text)-k +1):\n",
    "        shingle_set.append(text[i:i+k])\n",
    "    return set(shingle_set)\n",
    "\n"
   ]
  },
  {
   "cell_type": "code",
   "execution_count": 20,
   "metadata": {},
   "outputs": [
    {
     "name": "stdout",
     "output_type": "stream",
     "text": [
      "[1, 7, 10, 7, 7, 10, 10, 10, 1, 1, 7, 1, 10, 10, 1, 10, 10, 7, 10, 1]\n",
      "[8, 8, 8, 8, 11, 1, 11, 11, 11, 1, 8, 1, 1, 1, 1, 8, 1, 8, 11, 11]\n",
      "0.2\n"
     ]
    }
   ],
   "source": [
    "#shingle\n",
    "arr1 = shingle(\"\".join(dic[1]), 2)\n",
    "arr2 = shingle(\"\".join(dic[2]), 2)\n",
    "print(arr1)\n",
    "print(arr2)\n",
    "\n",
    "#vocab for 1hot\n",
    "vocab = np.union1d(dic[1], dic[2])\n",
    "print(vocab)\n",
    "\n",
    "#1hot-encoding\n",
    "x = [1 if item in vocab else 0 for item in arr1]\n",
    "y = [1 if item in vocab else 0 for item in arr2]\n",
    "\n",
    "# we create 20 minhash vectors\n",
    "minhash_func = build_minhash_func(len(vocab), 20)\n",
    "\n",
    "arr1_sig = create_hash(x)\n",
    "arr2_sig = create_hash(y)\n",
    "\n",
    "print(arr1_sig)\n",
    "print(arr2_sig)\n",
    "\n",
    "print(jaccard_similarity(arr1_sig, arr2_sig))\n"
   ]
  }
 ],
 "metadata": {
  "kernelspec": {
   "display_name": "Python 3",
   "language": "python",
   "name": "python3"
  },
  "language_info": {
   "codemirror_mode": {
    "name": "ipython",
    "version": 3
   },
   "file_extension": ".py",
   "mimetype": "text/x-python",
   "name": "python",
   "nbconvert_exporter": "python",
   "pygments_lexer": "ipython3",
   "version": "3.10.11"
  }
 },
 "nbformat": 4,
 "nbformat_minor": 2
}
